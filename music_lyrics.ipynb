{
 "cells": [
  {
   "cell_type": "markdown",
   "id": "de030026",
   "metadata": {},
   "source": [
    "# ANÁLISE EXPLORATÓRIA DAS PALAVRAS MAIS USADAS NAS LETRAS DAS MÚSICAS DE FUNK"
   ]
  },
  {
   "cell_type": "markdown",
   "id": "537cbd16",
   "metadata": {},
   "source": [
    "## Importando Bibliotecas"
   ]
  },
  {
   "cell_type": "code",
   "execution_count": 1,
   "id": "371b56e2",
   "metadata": {
    "scrolled": true
   },
   "outputs": [
    {
     "name": "stderr",
     "output_type": "stream",
     "text": [
      "[nltk_data] Downloading package stopwords to\n",
      "[nltk_data]     C:\\Users\\oper1.clopes\\AppData\\Roaming\\nltk_data...\n",
      "[nltk_data]   Package stopwords is already up-to-date!\n"
     ]
    }
   ],
   "source": [
    "# Data Science\n",
    "import pandas as pd\n",
    "import matplotlib.pyplot as plt\n",
    "\n",
    "# WebScraping\n",
    "import requests\n",
    "from bs4 import BeautifulSoup\n",
    "\n",
    "# StopWords (Palavras para Processamento de Linguagem Natural)\n",
    "import nltk\n",
    "nltk.download('stopwords')\n",
    "from nltk.corpus import stopwords"
   ]
  },
  {
   "cell_type": "markdown",
   "id": "6bab9b41",
   "metadata": {},
   "source": [
    "## WEBSCRAPING"
   ]
  },
  {
   "cell_type": "markdown",
   "id": "43ddea7d",
   "metadata": {},
   "source": [
    "### FUNÇÃO AUXILIAR: GET_ANCHORS\n",
    "RETORNA UMA LISTA ORDENADA DE ANCHORS CONTENDO LINKS DE MÚSICAS MAIS ACESSADAS CATEGORIZADAS POR GÊNERO MUSICAL"
   ]
  },
  {
   "cell_type": "code",
   "execution_count": 2,
   "id": "296b708a",
   "metadata": {},
   "outputs": [],
   "source": [
    "# Função para resgatar os anchors da lista ordenada contendo dados das músicas mais acessadas por gênero no URL fonte.\n",
    "# Fonte: https://www.letras.mus.br/\n",
    "# Data de Criação: 20/12/2022\n",
    "\n",
    "def get_anchors(genre):\n",
    "    # URL da fonte de dados\n",
    "    url = f'https://www.letras.mus.br/mais-acessadas/{str(genre).lower()}/'\n",
    "    \n",
    "    # Resgata o conteúdo HTML da página\n",
    "    page_content = requests.get(url).content\n",
    "    \n",
    "    # Converte o conteúdo HTML num objeto BeautifulSoup\n",
    "    soup = BeautifulSoup(page_content, \"html.parser\")\n",
    "    \n",
    "    # Resgata os anchors a partir dos itens da primeira lista ordenada do site\n",
    "    anchors = [li.find('a') for li in soup.find('ol') if li.text!=' ']\n",
    "    \n",
    "    # Retorna o resultado\n",
    "    return anchors"
   ]
  },
  {
   "cell_type": "markdown",
   "id": "972f110d",
   "metadata": {},
   "source": [
    "### FUNÇÃO AUXILIAR: GET_LYRIC_WORDS\n",
    "RETORNA UMA LISTA DE PALAVRAS, ÚNICAS OU NÃO, A PARTIR DE UM URL DE REFERÊNCIA DE UMA MÚSICA."
   ]
  },
  {
   "cell_type": "code",
   "execution_count": 3,
   "id": "6886385b",
   "metadata": {},
   "outputs": [],
   "source": [
    "# Função para resgatar as palavras contidas na letra de uma música de forma única ou não.\n",
    "# Fonte: https://www.letras.mus.br/\n",
    "# Data de Criação: 20/12/2022\n",
    "\n",
    "def get_lyric_words(href, unique_words=True):\n",
    "\n",
    "    from string import punctuation\n",
    "    words = []\n",
    "    \n",
    "    # Define a URL da fonte de dados\n",
    "    url = f\"https://www.letras.mus.br{href}\"\n",
    "    \n",
    "    # Resgata o conteúdo HTML da página\n",
    "    page_content = requests.get(url).content\n",
    "    \n",
    "    # Converte o conteúdo HTML num objeto BeautifulSoup\n",
    "    soup = BeautifulSoup(page_content, \"html.parser\")\n",
    "    \n",
    "    # Resgata a div da classe 'cnt-letra'\n",
    "    div = soup.find('div', 'cnt-letra')\n",
    "    \n",
    "    # Resgata os parágraphos\n",
    "    paragraphs = div.find_all('p')\n",
    "\n",
    "    for paragraph in paragraphs:\n",
    "        for content in paragraph.contents:\n",
    "            # Pula para o próximo loop caso o conteúdo esteja em branco\n",
    "            if len(content) == 0:\n",
    "                continue\n",
    "\n",
    "            # Remove as quebras de linha\n",
    "            processed_content = str(content).replace('<br>', '\\n').replace('<br/>', '\\n').replace('</br>','\\n')\n",
    "\n",
    "            # Remove Caracteres de Pontuação\n",
    "            for c in punctuation:\n",
    "                processed_content = processed_content.replace(c, '\\n')\n",
    "\n",
    "            # Transforma os caracteres em lower case\n",
    "            processed_content = processed_content.lower()\n",
    "\n",
    "            # Verifica a condição da variável unique_words\n",
    "            if unique_words:\n",
    "                # True: Adiciona palavras à lista de palavras\n",
    "                for word in processed_content.split():\n",
    "                    if word not in words:\n",
    "                        words.append(word)\n",
    "                    else:\n",
    "                        continue\n",
    "            else:\n",
    "                # False: Adiciona palavras únicas à lista de palavras\n",
    "                for word in processed_content.split():\n",
    "                    words.append(word)\n",
    "\n",
    "    return words"
   ]
  },
  {
   "cell_type": "markdown",
   "id": "fd7cab1f",
   "metadata": {},
   "source": [
    "### RESGATANDO DADOS"
   ]
  },
  {
   "cell_type": "code",
   "execution_count": 4,
   "id": "aaa96407",
   "metadata": {},
   "outputs": [],
   "source": [
    "# Resgata os anchors das melhores músicas do gênero 'funk'\n",
    "genre = 'funk'\n",
    "anchors = get_anchors(genre)"
   ]
  },
  {
   "cell_type": "code",
   "execution_count": 5,
   "id": "181d367c",
   "metadata": {},
   "outputs": [],
   "source": [
    "# Armazena todas as palavras das 100 melhores músicas resgatadas na variável word_list\n",
    "n_top_music = 100\n",
    "word_list = []\n",
    "for i in range(n_top_music):\n",
    "    for word in get_lyric_words(anchors[i]['href'], unique_words=True):\n",
    "        word_list.append(word)"
   ]
  },
  {
   "cell_type": "code",
   "execution_count": 6,
   "id": "7717f323",
   "metadata": {},
   "outputs": [],
   "source": [
    "# Converte a lista de palavras num dataframe contando as ocorrências de cada palavra e exibe o resultado\n",
    "df = pd.Series(word_list).value_counts().reset_index().rename(columns={'index': 'word', 0: 'count'})"
   ]
  },
  {
   "cell_type": "markdown",
   "id": "f15c6dc9",
   "metadata": {},
   "source": [
    "## DATAFRAME"
   ]
  },
  {
   "cell_type": "code",
   "execution_count": 7,
   "id": "650357c7",
   "metadata": {},
   "outputs": [
    {
     "data": {
      "text/html": [
       "<div>\n",
       "<style scoped>\n",
       "    .dataframe tbody tr th:only-of-type {\n",
       "        vertical-align: middle;\n",
       "    }\n",
       "\n",
       "    .dataframe tbody tr th {\n",
       "        vertical-align: top;\n",
       "    }\n",
       "\n",
       "    .dataframe thead th {\n",
       "        text-align: right;\n",
       "    }\n",
       "</style>\n",
       "<table border=\"1\" class=\"dataframe\">\n",
       "  <thead>\n",
       "    <tr style=\"text-align: right;\">\n",
       "      <th></th>\n",
       "      <th>word</th>\n",
       "      <th>count</th>\n",
       "    </tr>\n",
       "  </thead>\n",
       "  <tbody>\n",
       "    <tr>\n",
       "      <th>0</th>\n",
       "      <td>que</td>\n",
       "      <td>95</td>\n",
       "    </tr>\n",
       "    <tr>\n",
       "      <th>1</th>\n",
       "      <td>e</td>\n",
       "      <td>94</td>\n",
       "    </tr>\n",
       "    <tr>\n",
       "      <th>2</th>\n",
       "      <td>é</td>\n",
       "      <td>94</td>\n",
       "    </tr>\n",
       "    <tr>\n",
       "      <th>3</th>\n",
       "      <td>de</td>\n",
       "      <td>93</td>\n",
       "    </tr>\n",
       "    <tr>\n",
       "      <th>4</th>\n",
       "      <td>o</td>\n",
       "      <td>91</td>\n",
       "    </tr>\n",
       "  </tbody>\n",
       "</table>\n",
       "</div>"
      ],
      "text/plain": [
       "  word  count\n",
       "0  que     95\n",
       "1    e     94\n",
       "2    é     94\n",
       "3   de     93\n",
       "4    o     91"
      ]
     },
     "metadata": {},
     "output_type": "display_data"
    }
   ],
   "source": [
    "# Topo do frame\n",
    "display(df.head())"
   ]
  },
  {
   "cell_type": "code",
   "execution_count": 8,
   "id": "66575a73",
   "metadata": {
    "scrolled": false
   },
   "outputs": [
    {
     "name": "stdout",
     "output_type": "stream",
     "text": [
      "<class 'pandas.core.frame.DataFrame'>\n",
      "RangeIndex: 4561 entries, 0 to 4560\n",
      "Data columns (total 2 columns):\n",
      " #   Column  Non-Null Count  Dtype \n",
      "---  ------  --------------  ----- \n",
      " 0   word    4561 non-null   object\n",
      " 1   count   4561 non-null   int64 \n",
      "dtypes: int64(1), object(1)\n",
      "memory usage: 71.4+ KB\n"
     ]
    }
   ],
   "source": [
    "# Informações sobre o frame\n",
    "df.info()"
   ]
  },
  {
   "cell_type": "code",
   "execution_count": 9,
   "id": "5ac005bb",
   "metadata": {},
   "outputs": [
    {
     "data": {
      "text/html": [
       "<div>\n",
       "<style scoped>\n",
       "    .dataframe tbody tr th:only-of-type {\n",
       "        vertical-align: middle;\n",
       "    }\n",
       "\n",
       "    .dataframe tbody tr th {\n",
       "        vertical-align: top;\n",
       "    }\n",
       "\n",
       "    .dataframe thead th {\n",
       "        text-align: right;\n",
       "    }\n",
       "</style>\n",
       "<table border=\"1\" class=\"dataframe\">\n",
       "  <thead>\n",
       "    <tr style=\"text-align: right;\">\n",
       "      <th></th>\n",
       "      <th>count</th>\n",
       "      <th>mean</th>\n",
       "      <th>std</th>\n",
       "      <th>min</th>\n",
       "      <th>25%</th>\n",
       "      <th>50%</th>\n",
       "      <th>75%</th>\n",
       "      <th>max</th>\n",
       "    </tr>\n",
       "  </thead>\n",
       "  <tbody>\n",
       "    <tr>\n",
       "      <th>count</th>\n",
       "      <td>4561.0</td>\n",
       "      <td>3.425345</td>\n",
       "      <td>7.488395</td>\n",
       "      <td>1.0</td>\n",
       "      <td>1.0</td>\n",
       "      <td>1.0</td>\n",
       "      <td>3.0</td>\n",
       "      <td>95.0</td>\n",
       "    </tr>\n",
       "  </tbody>\n",
       "</table>\n",
       "</div>"
      ],
      "text/plain": [
       "        count      mean       std  min  25%  50%  75%   max\n",
       "count  4561.0  3.425345  7.488395  1.0  1.0  1.0  3.0  95.0"
      ]
     },
     "metadata": {},
     "output_type": "display_data"
    }
   ],
   "source": [
    "# Descrição de colunas numéricas\n",
    "display(df.describe().T)"
   ]
  },
  {
   "cell_type": "code",
   "execution_count": 10,
   "id": "d6c2a118",
   "metadata": {
    "scrolled": true
   },
   "outputs": [
    {
     "data": {
      "text/plain": [
       "word     0\n",
       "count    0\n",
       "dtype: int64"
      ]
     },
     "metadata": {},
     "output_type": "display_data"
    }
   ],
   "source": [
    "# Contagem de registros nulos por coluna\n",
    "display(df.isnull().sum())"
   ]
  },
  {
   "cell_type": "code",
   "execution_count": 11,
   "id": "2effcdfa",
   "metadata": {},
   "outputs": [
    {
     "data": {
      "text/plain": [
       "word     4561\n",
       "count      71\n",
       "dtype: int64"
      ]
     },
     "metadata": {},
     "output_type": "display_data"
    }
   ],
   "source": [
    "# Número de registros únicos por coluna\n",
    "display(df.nunique())"
   ]
  },
  {
   "cell_type": "markdown",
   "id": "eb6e3f22",
   "metadata": {},
   "source": [
    "## ANÁLISE EXPLORATÓRIA"
   ]
  },
  {
   "cell_type": "code",
   "execution_count": 12,
   "id": "3dbec238",
   "metadata": {},
   "outputs": [],
   "source": [
    "def univariate_barchart(x, y, title, xlabel, ylabel, xlabel_rotation=0, grid=False, barlabel=False,\n",
    "                        fig_width=10, fig_heigth=5, dpi=80, barcolor='green'):\n",
    "    # Define subplot\n",
    "    fig, ax = plt.subplots(figsize=(fig_width,fig_heigth), dpi=dpi)\n",
    "\n",
    "    # Grafico de barras\n",
    "    plt.bar(x, y, color=barcolor)\n",
    "\n",
    "    # Título e etiquetas do gráfico\n",
    "    plt.title(title)\n",
    "    plt.xlabel(xlabel)\n",
    "    plt.xticks(rotation=xlabel_rotation)\n",
    "    plt.ylabel(ylabel)\n",
    "    \n",
    "    # Grade\n",
    "    if grid:\n",
    "        ax.set_axisbelow(True)\n",
    "        plt.grid(linestyle='dashed', color='lightgrey')\n",
    "\n",
    "    # Etiqueta das barras\n",
    "    if barlabel:\n",
    "        ax.bar_label(ax.containers[0], label_type='edge')\n",
    "\n",
    "    # Exibição\n",
    "    plt.show()"
   ]
  },
  {
   "cell_type": "code",
   "execution_count": 13,
   "id": "7a07da73",
   "metadata": {},
   "outputs": [
    {
     "data": {
      "text/html": [
       "<div>\n",
       "<style scoped>\n",
       "    .dataframe tbody tr th:only-of-type {\n",
       "        vertical-align: middle;\n",
       "    }\n",
       "\n",
       "    .dataframe tbody tr th {\n",
       "        vertical-align: top;\n",
       "    }\n",
       "\n",
       "    .dataframe thead th {\n",
       "        text-align: right;\n",
       "    }\n",
       "</style>\n",
       "<table border=\"1\" class=\"dataframe\">\n",
       "  <thead>\n",
       "    <tr style=\"text-align: right;\">\n",
       "      <th></th>\n",
       "      <th>word</th>\n",
       "      <th>count</th>\n",
       "    </tr>\n",
       "  </thead>\n",
       "  <tbody>\n",
       "    <tr>\n",
       "      <th>0</th>\n",
       "      <td>vai</td>\n",
       "      <td>67</td>\n",
       "    </tr>\n",
       "    <tr>\n",
       "      <th>1</th>\n",
       "      <td>tá</td>\n",
       "      <td>66</td>\n",
       "    </tr>\n",
       "    <tr>\n",
       "      <th>2</th>\n",
       "      <td>vou</td>\n",
       "      <td>58</td>\n",
       "    </tr>\n",
       "    <tr>\n",
       "      <th>3</th>\n",
       "      <td>tô</td>\n",
       "      <td>48</td>\n",
       "    </tr>\n",
       "    <tr>\n",
       "      <th>4</th>\n",
       "      <td>quer</td>\n",
       "      <td>45</td>\n",
       "    </tr>\n",
       "  </tbody>\n",
       "</table>\n",
       "</div>"
      ],
      "text/plain": [
       "   word  count\n",
       "0   vai     67\n",
       "1    tá     66\n",
       "2   vou     58\n",
       "3    tô     48\n",
       "4  quer     45"
      ]
     },
     "metadata": {},
     "output_type": "display_data"
    }
   ],
   "source": [
    "# Filtrando StopWords\n",
    "# StopWords informais também sejam filtradas\n",
    "\n",
    "# Lista vazia definida para armazenar o index das palavras consideradas stopwords\n",
    "index_list = []\n",
    "\n",
    "# Adiciona a lista de stopwords definidas pela biblioteca nltk à variável sw\n",
    "sw = stopwords.words('portuguese')\n",
    "\n",
    "# Define uma lista de stopwords informais\n",
    "informal_sw = ['pra', 'pro']\n",
    "\n",
    "# Soma as listas formais e informais à uma única lista\n",
    "new_sw = sw + informal_sw\n",
    "\n",
    "# Verifica cada índice e palavra correspondente do frame\n",
    "for index,word in zip(df.index, df['word']):\n",
    "    \n",
    "    # Caso a palavra esteja na lista de stopwords o index da linha desta palavra é armazenada na lista index_list\n",
    "    if word in new_sw:\n",
    "        index_list.append(index)\n",
    "\n",
    "# Exclui as linhas a partir do index_list e armazena o novo frame num frame temporário\n",
    "temp_df = df.drop(index_list).reset_index(drop=True)\n",
    "\n",
    "# Exbie o cabeçalho resultado\n",
    "display(temp_df.head())"
   ]
  },
  {
   "cell_type": "code",
   "execution_count": 14,
   "id": "d3fef85b",
   "metadata": {},
   "outputs": [
    {
     "data": {
      "text/html": [
       "<div>\n",
       "<style scoped>\n",
       "    .dataframe tbody tr th:only-of-type {\n",
       "        vertical-align: middle;\n",
       "    }\n",
       "\n",
       "    .dataframe tbody tr th {\n",
       "        vertical-align: top;\n",
       "    }\n",
       "\n",
       "    .dataframe thead th {\n",
       "        text-align: right;\n",
       "    }\n",
       "</style>\n",
       "<table border=\"1\" class=\"dataframe\">\n",
       "  <thead>\n",
       "    <tr style=\"text-align: right;\">\n",
       "      <th></th>\n",
       "      <th>word</th>\n",
       "      <th>count</th>\n",
       "    </tr>\n",
       "  </thead>\n",
       "  <tbody>\n",
       "    <tr>\n",
       "      <th>0</th>\n",
       "      <td>vai</td>\n",
       "      <td>67</td>\n",
       "    </tr>\n",
       "    <tr>\n",
       "      <th>1</th>\n",
       "      <td>tá</td>\n",
       "      <td>66</td>\n",
       "    </tr>\n",
       "    <tr>\n",
       "      <th>2</th>\n",
       "      <td>vou</td>\n",
       "      <td>58</td>\n",
       "    </tr>\n",
       "    <tr>\n",
       "      <th>3</th>\n",
       "      <td>tô</td>\n",
       "      <td>48</td>\n",
       "    </tr>\n",
       "    <tr>\n",
       "      <th>4</th>\n",
       "      <td>quer</td>\n",
       "      <td>45</td>\n",
       "    </tr>\n",
       "    <tr>\n",
       "      <th>5</th>\n",
       "      <td>bem</td>\n",
       "      <td>43</td>\n",
       "    </tr>\n",
       "    <tr>\n",
       "      <th>6</th>\n",
       "      <td>hoje</td>\n",
       "      <td>43</td>\n",
       "    </tr>\n",
       "    <tr>\n",
       "      <th>7</th>\n",
       "      <td>vida</td>\n",
       "      <td>41</td>\n",
       "    </tr>\n",
       "    <tr>\n",
       "      <th>8</th>\n",
       "      <td>faz</td>\n",
       "      <td>40</td>\n",
       "    </tr>\n",
       "    <tr>\n",
       "      <th>9</th>\n",
       "      <td>sei</td>\n",
       "      <td>39</td>\n",
       "    </tr>\n",
       "    <tr>\n",
       "      <th>10</th>\n",
       "      <td>vem</td>\n",
       "      <td>38</td>\n",
       "    </tr>\n",
       "    <tr>\n",
       "      <th>11</th>\n",
       "      <td>sabe</td>\n",
       "      <td>37</td>\n",
       "    </tr>\n",
       "    <tr>\n",
       "      <th>12</th>\n",
       "      <td>nada</td>\n",
       "      <td>37</td>\n",
       "    </tr>\n",
       "    <tr>\n",
       "      <th>13</th>\n",
       "      <td>sempre</td>\n",
       "      <td>36</td>\n",
       "    </tr>\n",
       "    <tr>\n",
       "      <th>14</th>\n",
       "      <td>cara</td>\n",
       "      <td>36</td>\n",
       "    </tr>\n",
       "    <tr>\n",
       "      <th>15</th>\n",
       "      <td>*outras</td>\n",
       "      <td>11454</td>\n",
       "    </tr>\n",
       "  </tbody>\n",
       "</table>\n",
       "</div>"
      ],
      "text/plain": [
       "       word  count\n",
       "0       vai     67\n",
       "1        tá     66\n",
       "2       vou     58\n",
       "3        tô     48\n",
       "4      quer     45\n",
       "5       bem     43\n",
       "6      hoje     43\n",
       "7      vida     41\n",
       "8       faz     40\n",
       "9       sei     39\n",
       "10      vem     38\n",
       "11     sabe     37\n",
       "12     nada     37\n",
       "13   sempre     36\n",
       "14     cara     36\n",
       "15  *outras  11454"
      ]
     },
     "metadata": {},
     "output_type": "display_data"
    }
   ],
   "source": [
    "# Separando as top 15 palavras com maior número de repetições e atribuindo o restante à linha \"*outras\"\n",
    "\n",
    "n_top_words = 15\n",
    "\n",
    "others_count = temp_df['count'][temp_df.index > n_top_words].sum()\n",
    "\n",
    "others = {\n",
    "    'word': ['*outras'],\n",
    "    'count': [others_count]\n",
    "}\n",
    "\n",
    "new_df = pd.concat([temp_df.head(n_top_words),pd.DataFrame(others)], ignore_index=True)\n",
    "display(new_df)"
   ]
  },
  {
   "cell_type": "code",
   "execution_count": 15,
   "id": "e6045c5e",
   "metadata": {},
   "outputs": [],
   "source": [
    "# Definindo Configurações de Plotagem\n",
    "x = new_df['word']\n",
    "y = new_df['count']\n",
    "title = f\"CONTAGEM DE PALAVRAS NAS {n_top_music} MÚSICAS DE \\\"{genre.upper()}\\\" MAIS ACESSADAS\"\n",
    "xlabel = \"PALAVRA\"\n",
    "ylabel = \"CONTAGEM\"\n",
    "xlabel_rotation = 0\n",
    "grid = True\n",
    "barlabel = True\n",
    "fig_width = 15\n",
    "fig_heigth = 7\n",
    "dpi = 80\n",
    "barcolor = 'green'"
   ]
  },
  {
   "cell_type": "code",
   "execution_count": 16,
   "id": "25f2c79e",
   "metadata": {},
   "outputs": [
    {
     "data": {
      "image/png": "[encoded data removed]",
      "text/plain": [
       "<Figure size 1200x560 with 1 Axes>"
      ]
     },
     "metadata": {
      "needs_background": "light"
     },
     "output_type": "display_data"
    }
   ],
   "source": [
    "# Exibindo Resultados\n",
    "univariate_barchart(x, y, title, xlabel, ylabel, xlabel_rotation, grid, barlabel, fig_width, fig_heigth, dpi, barcolor)"
   ]
  },
  {
   "cell_type": "markdown",
   "id": "8f1874e9",
   "metadata": {},
   "source": [
    "Considerações:\n",
    "* Das 100 músicas mais acessadas, 67 contém a palavra \"vai\", sendo a palavra que mais se repete entre todas;\n",
    "* As 5 palavras que mais se repetem nas músicas, do mais repetitivo para o menos repetitivo, são as palavras \"vai\", \"tá\", \"vou\", \"tô\" e \"quer\".\n",
    "* Apesar de estar presente em 67 das 100 músicas, a palavra \"vai\" representa apenas 0,55% do total de repetições de palavras (12128) presentes nesta análise, revelando uma alta distribuição."
   ]
  }
 ],
 "metadata": {
  "kernelspec": {
   "display_name": "Python 3 (ipykernel)",
   "language": "python",
   "name": "python3"
  },
  "language_info": {
   "codemirror_mode": {
    "name": "ipython",
    "version": 3
   },
   "file_extension": ".py",
   "mimetype": "text/x-python",
   "name": "python",
   "nbconvert_exporter": "python",
   "pygments_lexer": "ipython3",
   "version": "3.8.13"
  }
 },
 "nbformat": 4,
 "nbformat_minor": 5
}
